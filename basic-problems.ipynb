{
 "cells": [
  {
   "cell_type": "code",
   "execution_count": 1,
   "metadata": {},
   "outputs": [
    {
     "data": {
      "text/plain": [
       "[4, 3, 2, 1]"
      ]
     },
     "execution_count": 1,
     "metadata": {},
     "output_type": "execute_result"
    }
   ],
   "source": [
    "# ARRAY \n",
    "# reverse an array \n",
    "def reverseArray(a):\n",
    "    # Write your code here\n",
    "    for i in range(len(a)):\n",
    "        temp = a[0:i]\n",
    "        a[0] = a[i]\n",
    "        a[1:i+1] = temp\n",
    "    \n",
    "    return a\n",
    "\n",
    "reverseArray([1,2,3,4])\n",
    "    "
   ]
  },
  {
   "cell_type": "code",
   "execution_count": null,
   "metadata": {},
   "outputs": [],
   "source": []
  },
  {
   "cell_type": "code",
   "execution_count": null,
   "metadata": {},
   "outputs": [],
   "source": []
  },
  {
   "cell_type": "markdown",
   "metadata": {},
   "source": []
  },
  {
   "cell_type": "code",
   "execution_count": null,
   "metadata": {},
   "outputs": [],
   "source": []
  },
  {
   "cell_type": "code",
   "execution_count": null,
   "metadata": {},
   "outputs": [],
   "source": []
  },
  {
   "cell_type": "code",
   "execution_count": null,
   "metadata": {},
   "outputs": [],
   "source": [
    "# Array\n",
    "# hour glass 2d array   \n",
    "def hourglasssum(arr):\n",
    "    max = -float(\"inf\")\n",
    "    for i in range(1, 5):\n",
    "        for j in range(1, 5):\n",
    "            sum = arr[i][j]\n",
    "            sum += arr[i-1][j-1] + arr[i-1][j] + arr[i-1][j+1]\n",
    "            sum += arr[i+1][j-1] + arr[i+1][j] + arr[i+1][j+1]\n",
    "            if sum > max:\n",
    "                max = sum\n",
    "    return max \n"
   ]
  },
  {
   "cell_type": "code",
   "execution_count": 1,
   "metadata": {},
   "outputs": [
    {
     "data": {
      "text/plain": [
       "[3, 4]"
      ]
     },
     "execution_count": 1,
     "metadata": {},
     "output_type": "execute_result"
    }
   ],
   "source": [
    "# Two sum\n",
    "def two_sum(aList, target):\n",
    "    mapTable  = {}\n",
    "    for i, n in enumerate(aList):\n",
    "        diff = target - n\n",
    "        if diff in mapTable:\n",
    "            return [mapTable[diff], i]\n",
    "        mapTable[n] = i\n",
    "    return \n",
    "\n",
    "# sample\n",
    "two_sum([1,2,3,4,5,6,7,9], 9)\n"
   ]
  },
  {
   "cell_type": "code",
   "execution_count": null,
   "metadata": {},
   "outputs": [],
   "source": []
  },
  {
   "cell_type": "code",
   "execution_count": 17,
   "metadata": {},
   "outputs": [
    {
     "name": "stdout",
     "output_type": "stream",
     "text": [
      "1275\n"
     ]
    }
   ],
   "source": [
    "#\n",
    "def sumX(num):\n",
    "    sum = 0\n",
    "    if num < 0:\n",
    "        print(\"please enter a positive number\")\n",
    "    else:\n",
    "        while num > 0:\n",
    "            sum += num\n",
    "            num -= 1\n",
    "    print(sum)\n",
    "\n",
    "sumX(50)"
   ]
  },
  {
   "cell_type": "code",
   "execution_count": 22,
   "metadata": {},
   "outputs": [
    {
     "name": "stdout",
     "output_type": "stream",
     "text": [
      "the sum of even numbers  from 0 to 12 are 42\n"
     ]
    }
   ],
   "source": [
    "def sumEven(num):\n",
    "    total = 0\n",
    "    for i in range(num+1):\n",
    "        if i % 2 == 0:\n",
    "            total += i\n",
    "    print(\"the sum of even numbers  from 0 to {} are {}\".format(num, total))\n",
    "\n",
    "sumEven(12)\n",
    "    \n",
    "        "
   ]
  },
  {
   "cell_type": "code",
   "execution_count": null,
   "metadata": {},
   "outputs": [],
   "source": []
  }
 ],
 "metadata": {
  "interpreter": {
   "hash": "570feb405e2e27c949193ac68f46852414290d515b0ba6e5d90d076ed2284471"
  },
  "kernelspec": {
   "display_name": "Python 3.8.2 64-bit",
   "language": "python",
   "name": "python3"
  },
  "language_info": {
   "codemirror_mode": {
    "name": "ipython",
    "version": 3
   },
   "file_extension": ".py",
   "mimetype": "text/x-python",
   "name": "python",
   "nbconvert_exporter": "python",
   "pygments_lexer": "ipython3",
   "version": "3.8.2"
  },
  "orig_nbformat": 4
 },
 "nbformat": 4,
 "nbformat_minor": 2
}
