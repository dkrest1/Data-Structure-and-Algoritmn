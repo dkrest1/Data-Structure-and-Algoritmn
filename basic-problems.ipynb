{
 "cells": [],
 "metadata": {
  "interpreter": {
   "hash": "81c64b7447d13ac7e71da4bf6c9f8743b11dd68420487cc994db1553f3e7d62a"
  },
  "kernelspec": {
   "display_name": "Python 3.9.7 ('base')",
   "language": "python",
   "name": "python3"
  },
  "language_info": {
   "codemirror_mode": {
    "name": "ipython",
    "version": 3
   },
   "file_extension": ".py",
   "mimetype": "text/x-python",
   "name": "python",
   "nbconvert_exporter": "python",
   "pygments_lexer": "ipython3",
   "version": "3.9.7"
  },
  "orig_nbformat": 4
 },
 "nbformat": 4,
 "nbformat_minor": 2
}
