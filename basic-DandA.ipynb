{
 "cells": [
  {
   "cell_type": "markdown",
   "metadata": {},
   "source": [
    "#  ALGORITHM"
   ]
  },
  {
   "cell_type": "markdown",
   "metadata": {},
   "source": [
    "### 1. SEARCHING ALGORITHM"
   ]
  },
  {
   "cell_type": "markdown",
   "metadata": {},
   "source": [
    "##### a. Linear Search "
   ]
  },
  {
   "cell_type": "markdown",
   "metadata": {},
   "source": [
    "- best case: O(1)\n",
    "- worst case: O(n)"
   ]
  },
  {
   "cell_type": "code",
   "execution_count": 2,
   "metadata": {},
   "outputs": [
    {
     "data": {
      "text/plain": [
       "'4 was found in the list'"
      ]
     },
     "execution_count": 2,
     "metadata": {},
     "output_type": "execute_result"
    }
   ],
   "source": [
    "def linear_search(aList, target):\n",
    "    for i in range(0, len(aList)):\n",
    "        if aList[i] == target:\n",
    "            return i\n",
    "    return None\n",
    "\n",
    "def verify(result, aList):\n",
    "    if result == None:\n",
    "        return \"result not in the list\"\n",
    "    else:\n",
    "        target = aList[result]\n",
    "        return \"{} was found in the list\".format(target)\n",
    "\n",
    "# test case\n",
    "aList = [1,2,3,4,5]\n",
    "result = linear_search(aList, 4)\n",
    "verify(result, aList)\n"
   ]
  },
  {
   "cell_type": "markdown",
   "metadata": {},
   "source": [
    "#### b. Binary Search"
   ]
  },
  {
   "cell_type": "markdown",
   "metadata": {},
   "source": [
    "- best case: O(1)\n",
    "- worse case: O(logn)"
   ]
  }
 ],
 "metadata": {
  "interpreter": {
   "hash": "570feb405e2e27c949193ac68f46852414290d515b0ba6e5d90d076ed2284471"
  },
  "kernelspec": {
   "display_name": "Python 3.8.2 64-bit",
   "language": "python",
   "name": "python3"
  },
  "language_info": {
   "codemirror_mode": {
    "name": "ipython",
    "version": 3
   },
   "file_extension": ".py",
   "mimetype": "text/x-python",
   "name": "python",
   "nbconvert_exporter": "python",
   "pygments_lexer": "ipython3",
   "version": "3.8.2"
  },
  "orig_nbformat": 4
 },
 "nbformat": 4,
 "nbformat_minor": 2
}
