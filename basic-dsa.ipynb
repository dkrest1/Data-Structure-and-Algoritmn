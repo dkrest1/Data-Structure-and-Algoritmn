{
 "cells": [
  {
   "cell_type": "markdown",
   "metadata": {},
   "source": [
    "#  ALGORITHM"
   ]
  },
  {
   "cell_type": "markdown",
   "metadata": {},
   "source": [
    "### 1. SEARCHING ALGORITHM"
   ]
  },
  {
   "cell_type": "markdown",
   "metadata": {},
   "source": [
    "##### a. Linear Search "
   ]
  },
  {
   "cell_type": "markdown",
   "metadata": {},
   "source": [
    "- best case: O(1)\n",
    "- worst case: O(n)\n",
    "- space complex: 0(1)"
   ]
  },
  {
   "cell_type": "code",
   "execution_count": 2,
   "metadata": {},
   "outputs": [
    {
     "data": {
      "text/plain": [
       "'4 was found in the list'"
      ]
     },
     "execution_count": 2,
     "metadata": {},
     "output_type": "execute_result"
    }
   ],
   "source": [
    "def linear_search(aList, target):\n",
    "    for i in range(0, len(aList)):\n",
    "        if aList[i] == target:\n",
    "            return i\n",
    "    return None\n",
    "\n",
    "def verify(result, aList):\n",
    "    if result == None:\n",
    "        return \"result not in the list\"\n",
    "    else:\n",
    "        target = aList[result]\n",
    "        return \"{} was found in the list\".format(target)\n",
    "\n",
    "# test case\n",
    "aList = [1,2,3,4,5]\n",
    "result = linear_search(aList, 4)\n",
    "verify(result, aList)\n"
   ]
  },
  {
   "cell_type": "markdown",
   "metadata": {},
   "source": [
    "#### b. Binary Search"
   ]
  },
  {
   "cell_type": "markdown",
   "metadata": {},
   "source": [
    "- best case run time for binary search : O(1)\n",
    "- average case and worse case time complexity: O(logn)\n",
    "- space complexity for iterative binary search: O(1)\n",
    "- space complexity for recursive binary search: O(logn)"
   ]
  },
  {
   "cell_type": "code",
   "execution_count": 2,
   "metadata": {},
   "outputs": [
    {
     "data": {
      "text/plain": [
       "'target is present in the list'"
      ]
     },
     "execution_count": 2,
     "metadata": {},
     "output_type": "execute_result"
    }
   ],
   "source": [
    "def binary_search(aList, target):\n",
    "    first  = 0\n",
    "    last = len(aList) - 1\n",
    "\n",
    "    while first <= last:\n",
    "        mid = len(aList) // 2\n",
    "        if aList[mid] == target:\n",
    "            return target\n",
    "        else:\n",
    "            if aList[mid] > target:\n",
    "                last = mid\n",
    "            else:\n",
    "                first = mid + 1\n",
    "\n",
    "    return None\n",
    "\n",
    "#verify result \n",
    "def verify(target):\n",
    "    if target == None:\n",
    "        return \"target element not in the list\"\n",
    "    else:\n",
    "        return \"target is present in the list\"\n",
    "\n",
    "aList = [2,4,6,8,10]\n",
    "target = 6\n",
    "binary_search(aList, target)\n",
    "verify(target)"
   ]
  },
  {
   "cell_type": "markdown",
   "metadata": {},
   "source": [
    "#### c. Recursive_Binary_Search"
   ]
  },
  {
   "cell_type": "markdown",
   "metadata": {},
   "source": [
    "- time complexity for recursive: O(logn)\n",
    "- space complexity for recursive: O(logn)"
   ]
  },
  {
   "cell_type": "code",
   "execution_count": null,
   "metadata": {},
   "outputs": [],
   "source": [
    "def recursive_binary1(aList, target):\n",
    "    if len(aList) == 0:\n",
    "        return False\n",
    "    else:\n",
    "        mid = len(aList) // 2\n",
    "        if aList[mid] == target:\n",
    "            return True\n",
    "        elif aList[mid] > target:\n",
    "            return recursive_binary1(aList[:mid], target)\n",
    "        else:\n",
    "            return recursive_binary1(aList[mid + 1:], target)\n",
    "\n"
   ]
  },
  {
   "cell_type": "code",
   "execution_count": 5,
   "metadata": {},
   "outputs": [
    {
     "name": "stdout",
     "output_type": "stream",
     "text": [
      "target can be found: 9\n"
     ]
    }
   ],
   "source": [
    "\n",
    "def recursive_binary2(aList, low, high, target):\n",
    "    if low > high:\n",
    "        return \"target not in the list\"\n",
    "    else:\n",
    "        mid = (low + high) // 2\n",
    "        if aList[mid] == target:\n",
    "            return target\n",
    "        elif aList[mid] > target:\n",
    "            return recursive_binary2(aList, low, mid-1, target)\n",
    "        else:\n",
    "            return recursive_binary2(aList, mid+1, high, target)\n",
    "\n",
    "def verify(target):\n",
    "    print(\"target can be found: {}\".format(target))\n",
    "\n",
    "numbers = [1, 2, 3, 4, 5, 6, 7, 8, 9, 10]\n",
    "\n",
    "result = recursive_binary2(numbers, 0, len(numbers)-1, 9)\n",
    "\n",
    "verify(result)"
   ]
  },
  {
   "cell_type": "code",
   "execution_count": null,
   "metadata": {},
   "outputs": [],
   "source": [
    "# LEETCODE FAST SOLUTION\n",
    "def search(self, nums, target: int):\n",
    "    first, last = 0, len(nums) - 1\n",
    "    while first <= last:\n",
    "        mid = first + (last - first) // 2\n",
    "        if nums[mid] ==  target:\n",
    "            return mid\n",
    "        elif nums[mid] > target:\n",
    "            last = mid - 1\n",
    "        else:\n",
    "            first = mid + 1\n",
    "    return -1"
   ]
  }
 ],
 "metadata": {
  "interpreter": {
   "hash": "570feb405e2e27c949193ac68f46852414290d515b0ba6e5d90d076ed2284471"
  },
  "kernelspec": {
   "display_name": "Python 3.8.2 64-bit",
   "language": "python",
   "name": "python3"
  },
  "language_info": {
   "codemirror_mode": {
    "name": "ipython",
    "version": 3
   },
   "file_extension": ".py",
   "mimetype": "text/x-python",
   "name": "python",
   "nbconvert_exporter": "python",
   "pygments_lexer": "ipython3",
   "version": "3.8.2"
  },
  "orig_nbformat": 4
 },
 "nbformat": 4,
 "nbformat_minor": 2
}
