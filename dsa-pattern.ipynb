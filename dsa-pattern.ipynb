{
 "cells": [
  {
   "cell_type": "markdown",
   "metadata": {},
   "source": [
    "1. TWO POINTER PATTERN IMPLEMENTATION  \n",
    "- time complexity = O(nlogn)  \n",
    "- space complexity = O(1)  \n",
    "PS: **they are used for searching pairs in sorted arrays, they are generally used in arrays and linked list**"
   ]
  },
  {
   "cell_type": "code",
   "execution_count": 3,
   "metadata": {},
   "outputs": [
    {
     "data": {
      "text/plain": [
       "False"
      ]
     },
     "execution_count": 3,
     "metadata": {},
     "output_type": "execute_result"
    }
   ],
   "source": [
    "def two_pointer(arr, n, x):\n",
    "    i = 0\n",
    "    j = n - 1\n",
    "\n",
    "    while i < j:\n",
    "        if arr[i] + arr[j] == x:\n",
    "            return True\n",
    "        elif arr[i] + arr[j] < x:\n",
    "            i += 1\n",
    "        else: \n",
    "            j -= 1\n",
    "    return False\n",
    "\n",
    "\n",
    "arr = [2, 3, 5, 8, 10, 11]\n",
    "x = 17\n",
    "n = 6\n",
    "\n",
    "two_pointer(arr, 6, 17)\n",
    "            "
   ]
  },
  {
   "cell_type": "markdown",
   "metadata": {},
   "source": [
    "1. SLIDING WINDOW PATTERN IMPLEMENTATION  \n",
    "- time complexity = O(n)  \n",
    "- space complexity = O(1)  \n",
    "PS: **they are used arrays and linkedlist to find sum of sub arrays or mean of sub arrays**"
   ]
  },
  {
   "cell_type": "code",
   "execution_count": 1,
   "metadata": {},
   "outputs": [
    {
     "data": {
      "text/plain": [
       "[2.2, 2.8, 2.4, 3.6, 2.8]"
      ]
     },
     "execution_count": 1,
     "metadata": {},
     "output_type": "execute_result"
    }
   ],
   "source": [
    "# this implementation is used to finc the average of sub arrays of an array\n",
    "def sliding_window(arr, k):\n",
    "    result = []\n",
    "    windowSum = 0\n",
    "    windowStart = 0\n",
    "    for windowEnd in range(len(arr)):\n",
    "        windowSum += arr[windowEnd]\n",
    "        if windowEnd >= k - 1:\n",
    "            result.append(windowSum / k)\n",
    "            windowSum -= arr[windowStart]\n",
    "            windowStart += 1\n",
    "    return result\n",
    "\n",
    "arr = [1,3,2,6,-1,4,1,8,2]\n",
    "k = 5\n",
    "\n",
    "sliding_window(arr, k)"
   ]
  }
 ],
 "metadata": {
  "interpreter": {
   "hash": "570feb405e2e27c949193ac68f46852414290d515b0ba6e5d90d076ed2284471"
  },
  "kernelspec": {
   "display_name": "Python 3.8.2 64-bit",
   "language": "python",
   "name": "python3"
  },
  "language_info": {
   "codemirror_mode": {
    "name": "ipython",
    "version": 3
   },
   "file_extension": ".py",
   "mimetype": "text/x-python",
   "name": "python",
   "nbconvert_exporter": "python",
   "pygments_lexer": "ipython3",
   "version": "3.8.2"
  },
  "orig_nbformat": 4
 },
 "nbformat": 4,
 "nbformat_minor": 2
}
