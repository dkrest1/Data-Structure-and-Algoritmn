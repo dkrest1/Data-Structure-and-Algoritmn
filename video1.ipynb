{
 "cells": [
  {
   "cell_type": "code",
   "execution_count": 23,
   "metadata": {},
   "outputs": [
    {
     "name": "stdout",
     "output_type": "stream",
     "text": [
      "number is found at 8\n"
     ]
    }
   ],
   "source": [
    "# LINEAR ALGORITHM SEARCH\n",
    "def liner_search(aList, target):\n",
    "    for i in range(0, len(aList)):\n",
    "        if aList[i] == target:\n",
    "            return i\n",
    "    return None\n",
    "\n",
    "# to verify number write a small test\n",
    "def verify(index):\n",
    "    if index == None:\n",
    "        print(\"number not in the list\")\n",
    "    else:\n",
    "        print(\"number is found at {}\".format(index))\n",
    "        \n",
    "numbers = [x for x in range(1, 10)]\n",
    "\n",
    "check = liner_search(numbers, 9)\n",
    "verify(check)"
   ]
  },
  {
   "cell_type": "code",
   "execution_count": 21,
   "metadata": {},
   "outputs": [
    {
     "name": "stdout",
     "output_type": "stream",
     "text": [
      "True\n"
     ]
    }
   ],
   "source": [
    "# BINARY SEARCH ALGORITHM\n",
    "def binary_search(aList, target):\n",
    "    aList.sort()\n",
    "    while aList:\n",
    "        mid = len(aList) // 2\n",
    "        if aList[mid] == target:\n",
    "            return True\n",
    "        elif aList[mid] > target:\n",
    "            aList = aList[ : mid ]\n",
    "        elif aList[mid] < target:\n",
    "            aList = aList[mid + 1 : ]\n",
    "    return False\n",
    "\n",
    "\n",
    "nums = [x for x in range(1, 9)]\n",
    "print(binary_search(nums, 6))"
   ]
  },
  {
   "cell_type": "code",
   "execution_count": 24,
   "metadata": {},
   "outputs": [
    {
     "data": {
      "text/plain": [
       "True"
      ]
     },
     "execution_count": 24,
     "metadata": {},
     "output_type": "execute_result"
    }
   ],
   "source": [
    "# RECURSIVE BINARY SEARCH\n",
    "def recursive_binary_search(aList, target):\n",
    "    if len(aList) == 0:\n",
    "        return False\n",
    "    else:\n",
    "        mid = len(aList) // 2\n",
    "        if aList[mid] == target:\n",
    "            return True\n",
    "        else:\n",
    "            if aList[mid] < target:\n",
    "                return recursive_binary_search(aList[mid +1 : ], target)\n",
    "            else:\n",
    "                return recursive_binary_search(aList[ : mid], target)\n",
    "\n",
    "\n",
    "nums = [x for x in range(1, 10)]            \n",
    "recursive_binary_search(nums, 9)\n",
    "    "
   ]
  },
  {
   "cell_type": "code",
   "execution_count": null,
   "metadata": {},
   "outputs": [],
   "source": [
    "# ARRAYS\n",
    "\n",
    "#Linked LIST\n",
    "\n",
    "\n",
    "# creating a Node\n",
    "class Node:\n",
    "    data  = None\n",
    "    next_node = None\n",
    "    def __init__(self, data):\n",
    "        self.data = data\n",
    "\n",
    "# creating a Linked list\n",
    "class LinkedList:\n",
    "    def __init__(self):\n",
    "        self.head = None\n",
    "    \n",
    "    def is_empty(self):\n",
    "        return self.head == None\n",
    "    \n",
    "    def size(self):\n",
    "        current = self.head\n",
    "        count = 0\n",
    "    \n",
    "        while current:\n",
    "            count += 1\n",
    "            current = current.next_node\n",
    "        return count\n",
    "        \n",
    "        "
   ]
  },
  {
   "cell_type": "code",
   "execution_count": null,
   "metadata": {},
   "outputs": [],
   "source": []
  }
 ],
 "metadata": {
  "interpreter": {
   "hash": "570feb405e2e27c949193ac68f46852414290d515b0ba6e5d90d076ed2284471"
  },
  "kernelspec": {
   "display_name": "Python 3.8.2 64-bit",
   "language": "python",
   "name": "python3"
  },
  "language_info": {
   "codemirror_mode": {
    "name": "ipython",
    "version": 3
   },
   "file_extension": ".py",
   "mimetype": "text/x-python",
   "name": "python",
   "nbconvert_exporter": "python",
   "pygments_lexer": "ipython3",
   "version": "3.8.2"
  },
  "orig_nbformat": 4
 },
 "nbformat": 4,
 "nbformat_minor": 2
}
