{
 "cells": [
  {
   "cell_type": "markdown",
   "metadata": {},
   "source": [
    " # 1.  Palindrone Numbers"
   ]
  },
  {
   "cell_type": "code",
   "execution_count": 2,
   "metadata": {},
   "outputs": [
    {
     "data": {
      "text/plain": [
       "True"
      ]
     },
     "execution_count": 2,
     "metadata": {},
     "output_type": "execute_result"
    }
   ],
   "source": [
    "def isPalindronme(num):\n",
    "    first = num\n",
    "    last = 0\n",
    "    while num:\n",
    "        temp = num % 10\n",
    "        last = (last * 10) + temp\n",
    "        num //= 10\n",
    "    return first == last\n",
    "\n",
    "isPalindronme(121)\n",
    "\n",
    "class Solution:\n",
    "\n",
    "    def isPalindronme(self, x):\n",
    "        if x < 0 or (x % 10 == 0 and x != 0 ):\n",
    "          return False\n",
    "        reverse = 0\n",
    "        while x > reverse:\n",
    "            reverse = reverse * 10 + (x % 10)\n",
    "            x //= 10\n",
    "        return x == reverse or x == reverse // 10\n",
    "\n",
    "        \n"
   ]
  },
  {
   "cell_type": "code",
   "execution_count": null,
   "metadata": {},
   "outputs": [],
   "source": [
    "SELECT 'concat' || ' ' || 'together' AS w_string\n",
    " \n",
    "SELECT CONCAT(first_name, last_name) AS full_name FROM actors\n",
    "\n",
    "SELECT CONCAT(first_name, ' ', last_name) AS full_name FROM actors\n",
    "\n",
    "SELECT CONCAT_WS(' ', first_name, last_name, date_of_birth) AS full_details FROM actors\n",
    "\n",
    "\n",
    "\n",
    "\n",
    "\n",
    "\n",
    " \n"
   ]
  }
 ],
 "metadata": {
  "interpreter": {
   "hash": "570feb405e2e27c949193ac68f46852414290d515b0ba6e5d90d076ed2284471"
  },
  "kernelspec": {
   "display_name": "Python 3.8.2 64-bit",
   "language": "python",
   "name": "python3"
  },
  "language_info": {
   "codemirror_mode": {
    "name": "ipython",
    "version": 3
   },
   "file_extension": ".py",
   "mimetype": "text/x-python",
   "name": "python",
   "nbconvert_exporter": "python",
   "pygments_lexer": "ipython3",
   "version": "3.8.2"
  },
  "orig_nbformat": 4
 },
 "nbformat": 4,
 "nbformat_minor": 2
}
